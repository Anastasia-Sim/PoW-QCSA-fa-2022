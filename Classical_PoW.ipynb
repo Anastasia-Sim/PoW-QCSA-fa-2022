{
  "nbformat": 4,
  "nbformat_minor": 0,
  "metadata": {
    "colab": {
      "provenance": []
    },
    "kernelspec": {
      "name": "python3",
      "display_name": "Python 3"
    },
    "language_info": {
      "name": "python"
    }
  },
  "cells": [
    {
      "cell_type": "code",
      "source": [
        "print(\"hello word\")"
      ],
      "metadata": {
        "id": "wnWSoGXu6kfd",
        "outputId": "14116c6c-283f-47ae-f85f-66a21f71cf5f",
        "colab": {
          "base_uri": "https://localhost:8080/"
        }
      },
      "execution_count": null,
      "outputs": [
        {
          "output_type": "stream",
          "name": "stdout",
          "text": [
            "hello word\n"
          ]
        }
      ]
    },
    {
      "cell_type": "code",
      "source": [
        "hash_dict = {\n",
        "    '000': '110',\n",
        "    '001': '111',\n",
        "    '010': '011',\n",
        "    '011': '001',\n",
        "    '100': '100',\n",
        "    '101': '010',\n",
        "    '110': '101',\n",
        "    '111': '000',\n",
        "}"
      ],
      "metadata": {
        "id": "GFx4Ls-Vun-8"
      },
      "execution_count": null,
      "outputs": []
    },
    {
      "cell_type": "code",
      "source": [
        "import random\n",
        "def get_strings(bit_count):\n",
        "    strarr = []\n",
        "    def generate(n, s=''):\n",
        "        if len(s) == n:\n",
        "            strarr.append(s)\n",
        "        else:\n",
        "            generate(n, s + '0')\n",
        "            generate(n, s + '1')\n",
        "\n",
        "    generate(bit_count)\n",
        "    random.shuffle(strarr)\n",
        "    return strarr"
      ],
      "metadata": {
        "id": "eFyD7j38zTxM"
      },
      "execution_count": null,
      "outputs": []
    },
    {
      "cell_type": "code",
      "source": [
        "def proof_of_work(level, bitlen):\n",
        "  strarr = get_strings(bitlen)\n",
        "  count = 1\n",
        "  for i in strarr:\n",
        "    if hash_dict[i].startswith('0'*level):\n",
        "      # print(\"found hash\", i, \"in\", count, \" tries\")\n",
        "      random.shuffle(strarr)\n",
        "      break;\n",
        "    else: \n",
        "      count += 1\n",
        "    \n",
        "  return count\n",
        " "
      ],
      "metadata": {
        "id": "vipjAszevjAV"
      },
      "execution_count": null,
      "outputs": []
    },
    {
      "cell_type": "code",
      "source": [
        "def getAvgTries(tries, level=3, bitlen=3):\n",
        "  sum = 0\n",
        "  for i in range(tries):\n",
        "    sum += proof_of_work(level, bitlen)\n",
        "  return sum/tries"
      ],
      "metadata": {
        "id": "EACe2v8hxhJL"
      },
      "execution_count": null,
      "outputs": []
    },
    {
      "cell_type": "code",
      "source": [
        "getAvgTries(100)"
      ],
      "metadata": {
        "id": "1CxU0exVxjT9",
        "colab": {
          "base_uri": "https://localhost:8080/"
        },
        "outputId": "b20dddba-60ab-4549-f8d8-2d55bb7981dc"
      },
      "execution_count": null,
      "outputs": [
        {
          "output_type": "execute_result",
          "data": {
            "text/plain": [
              "4.45"
            ]
          },
          "metadata": {},
          "execution_count": 78
        }
      ]
    }
  ]
}