{
  "nbformat": 4,
  "nbformat_minor": 0,
  "metadata": {
    "colab": {
      "provenance": [],
      "collapsed_sections": [],
      "include_colab_link": true
    },
    "kernelspec": {
      "name": "python3",
      "display_name": "Python 3"
    },
    "language_info": {
      "name": "python"
    }
  },
  "cells": [
    {
      "cell_type": "markdown",
      "metadata": {
        "id": "view-in-github",
        "colab_type": "text"
      },
      "source": [
        "<a href=\"https://colab.research.google.com/github/Anastasia-Sim/PoW-QCSA-fa22/blob/main/QuantumHash.ipynb\" target=\"_parent\"><img src=\"https://colab.research.google.com/assets/colab-badge.svg\" alt=\"Open In Colab\"/></a>"
      ]
    },
    {
      "cell_type": "markdown",
      "source": [
        "#Quantum Hash Block\n",
        "In this notebook, we constructed a proof of concept of our \"quantum hash function\" that we will try to crack with Grover's to assert quantum dominance over the classical brute force strategy. For our case, our hash is just a 3-bit one-to-one mapping of possible 3-bit inputs.\n"
      ],
      "metadata": {
        "id": "xpsdisgP_GDI"
      }
    },
    {
      "cell_type": "code",
      "execution_count": 75,
      "metadata": {
        "id": "tEeOHBInedhG",
        "colab": {
          "base_uri": "https://localhost:8080/"
        },
        "outputId": "24afc5a6-f906-4e08-a3b2-ff49fd13976e"
      },
      "outputs": [
        {
          "output_type": "stream",
          "name": "stdout",
          "text": [
            "Looking in indexes: https://pypi.org/simple, https://us-python.pkg.dev/colab-wheels/public/simple/\n",
            "Requirement already satisfied: qiskit in /usr/local/lib/python3.7/dist-packages (0.39.2)\n",
            "Requirement already satisfied: matplotlib in /usr/local/lib/python3.7/dist-packages (3.2.2)\n",
            "Requirement already satisfied: qiskit-ibmq-provider==0.19.2 in /usr/local/lib/python3.7/dist-packages (from qiskit) (0.19.2)\n",
            "Requirement already satisfied: qiskit-aer==0.11.1 in /usr/local/lib/python3.7/dist-packages (from qiskit) (0.11.1)\n",
            "Requirement already satisfied: qiskit-terra==0.22.2 in /usr/local/lib/python3.7/dist-packages (from qiskit) (0.22.2)\n",
            "Requirement already satisfied: numpy>=1.16.3 in /usr/local/lib/python3.7/dist-packages (from qiskit-aer==0.11.1->qiskit) (1.21.6)\n",
            "Requirement already satisfied: scipy>=1.0 in /usr/local/lib/python3.7/dist-packages (from qiskit-aer==0.11.1->qiskit) (1.7.3)\n",
            "Requirement already satisfied: urllib3>=1.21.1 in /usr/local/lib/python3.7/dist-packages (from qiskit-ibmq-provider==0.19.2->qiskit) (1.24.3)\n",
            "Requirement already satisfied: websockets>=10.0 in /usr/local/lib/python3.7/dist-packages (from qiskit-ibmq-provider==0.19.2->qiskit) (10.4)\n",
            "Requirement already satisfied: requests>=2.19 in /usr/local/lib/python3.7/dist-packages (from qiskit-ibmq-provider==0.19.2->qiskit) (2.23.0)\n",
            "Requirement already satisfied: requests-ntlm>=1.1.0 in /usr/local/lib/python3.7/dist-packages (from qiskit-ibmq-provider==0.19.2->qiskit) (1.1.0)\n",
            "Requirement already satisfied: python-dateutil>=2.8.0 in /usr/local/lib/python3.7/dist-packages (from qiskit-ibmq-provider==0.19.2->qiskit) (2.8.2)\n",
            "Requirement already satisfied: websocket-client>=1.0.1 in /usr/local/lib/python3.7/dist-packages (from qiskit-ibmq-provider==0.19.2->qiskit) (1.4.2)\n",
            "Requirement already satisfied: shared-memory38 in /usr/local/lib/python3.7/dist-packages (from qiskit-terra==0.22.2->qiskit) (0.1.2)\n",
            "Requirement already satisfied: typing-extensions in /usr/local/lib/python3.7/dist-packages (from qiskit-terra==0.22.2->qiskit) (4.1.1)\n",
            "Requirement already satisfied: stevedore>=3.0.0 in /usr/local/lib/python3.7/dist-packages (from qiskit-terra==0.22.2->qiskit) (3.5.2)\n",
            "Requirement already satisfied: retworkx>=0.11.0 in /usr/local/lib/python3.7/dist-packages (from qiskit-terra==0.22.2->qiskit) (0.12.0)\n",
            "Requirement already satisfied: psutil>=5 in /usr/local/lib/python3.7/dist-packages (from qiskit-terra==0.22.2->qiskit) (5.4.8)\n",
            "Requirement already satisfied: symengine>=0.9 in /usr/local/lib/python3.7/dist-packages (from qiskit-terra==0.22.2->qiskit) (0.9.2)\n",
            "Requirement already satisfied: tweedledum<2.0,>=1.1 in /usr/local/lib/python3.7/dist-packages (from qiskit-terra==0.22.2->qiskit) (1.1.1)\n",
            "Requirement already satisfied: ply>=3.10 in /usr/local/lib/python3.7/dist-packages (from qiskit-terra==0.22.2->qiskit) (3.11)\n",
            "Requirement already satisfied: dill>=0.3 in /usr/local/lib/python3.7/dist-packages (from qiskit-terra==0.22.2->qiskit) (0.3.6)\n",
            "Requirement already satisfied: importlib-metadata<5.0 in /usr/local/lib/python3.7/dist-packages (from qiskit-terra==0.22.2->qiskit) (4.13.0)\n",
            "Requirement already satisfied: sympy>=1.3 in /usr/local/lib/python3.7/dist-packages (from qiskit-terra==0.22.2->qiskit) (1.7.1)\n",
            "Requirement already satisfied: zipp>=0.5 in /usr/local/lib/python3.7/dist-packages (from importlib-metadata<5.0->qiskit-terra==0.22.2->qiskit) (3.10.0)\n",
            "Requirement already satisfied: six>=1.5 in /usr/local/lib/python3.7/dist-packages (from python-dateutil>=2.8.0->qiskit-ibmq-provider==0.19.2->qiskit) (1.15.0)\n",
            "Requirement already satisfied: certifi>=2017.4.17 in /usr/local/lib/python3.7/dist-packages (from requests>=2.19->qiskit-ibmq-provider==0.19.2->qiskit) (2022.9.24)\n",
            "Requirement already satisfied: idna<3,>=2.5 in /usr/local/lib/python3.7/dist-packages (from requests>=2.19->qiskit-ibmq-provider==0.19.2->qiskit) (2.10)\n",
            "Requirement already satisfied: chardet<4,>=3.0.2 in /usr/local/lib/python3.7/dist-packages (from requests>=2.19->qiskit-ibmq-provider==0.19.2->qiskit) (3.0.4)\n",
            "Requirement already satisfied: ntlm-auth>=1.0.2 in /usr/local/lib/python3.7/dist-packages (from requests-ntlm>=1.1.0->qiskit-ibmq-provider==0.19.2->qiskit) (1.5.0)\n",
            "Requirement already satisfied: cryptography>=1.3 in /usr/local/lib/python3.7/dist-packages (from requests-ntlm>=1.1.0->qiskit-ibmq-provider==0.19.2->qiskit) (38.0.3)\n",
            "Requirement already satisfied: cffi>=1.12 in /usr/local/lib/python3.7/dist-packages (from cryptography>=1.3->requests-ntlm>=1.1.0->qiskit-ibmq-provider==0.19.2->qiskit) (1.15.1)\n",
            "Requirement already satisfied: pycparser in /usr/local/lib/python3.7/dist-packages (from cffi>=1.12->cryptography>=1.3->requests-ntlm>=1.1.0->qiskit-ibmq-provider==0.19.2->qiskit) (2.21)\n",
            "Requirement already satisfied: rustworkx==0.12.0 in /usr/local/lib/python3.7/dist-packages (from retworkx>=0.11.0->qiskit-terra==0.22.2->qiskit) (0.12.0)\n",
            "Requirement already satisfied: pbr!=2.1.0,>=2.0.0 in /usr/local/lib/python3.7/dist-packages (from stevedore>=3.0.0->qiskit-terra==0.22.2->qiskit) (5.11.0)\n",
            "Requirement already satisfied: mpmath>=0.19 in /usr/local/lib/python3.7/dist-packages (from sympy>=1.3->qiskit-terra==0.22.2->qiskit) (1.2.1)\n",
            "Requirement already satisfied: cycler>=0.10 in /usr/local/lib/python3.7/dist-packages (from matplotlib) (0.11.0)\n",
            "Requirement already satisfied: pyparsing!=2.0.4,!=2.1.2,!=2.1.6,>=2.0.1 in /usr/local/lib/python3.7/dist-packages (from matplotlib) (3.0.9)\n",
            "Requirement already satisfied: kiwisolver>=1.0.1 in /usr/local/lib/python3.7/dist-packages (from matplotlib) (1.4.4)\n"
          ]
        }
      ],
      "source": [
        "#Importing all the necessary libraries\n",
        "!pip install qiskit matplotlib\n",
        "\n",
        "import qiskit\n",
        "import matplotlib\n",
        "\n",
        "from qiskit import QuantumCircuit, assemble, Aer, circuit, QuantumRegister, ClassicalRegister\n",
        "from qiskit.visualization import plot_histogram\n",
        "from qiskit.quantum_info.operators import Operator\n",
        "from qiskit.extensions import UnitaryGate"
      ]
    },
    {
      "cell_type": "markdown",
      "source": [
        "# Hash Function/Gate Creation"
      ],
      "metadata": {
        "id": "0rt1Wwqj8hVK"
      }
    },
    {
      "cell_type": "code",
      "source": [
        "hash_circ = QuantumCircuit(3)\n",
        "hash_gate = Operator([\n",
        "    [0,0,0,0,0,0,0,1],\n",
        "    [0,0,0,1,0,0,0,0],\n",
        "    [0,0,0,0,0,1,0,0],\n",
        "    [0,0,1,0,0,0,0,0],\n",
        "    [0,0,0,0,1,0,0,0],\n",
        "    [0,0,0,0,0,0,1,0],\n",
        "    [1,0,0,0,0,0,0,0],\n",
        "    [0,1,0,0,0,0,0,0]\n",
        "])\n",
        "\n",
        "hash_gate.name = \"Hash Gate\"\n",
        "hash_dagger = hash_gate.conjugate().transpose()\n",
        "hash_gate.name = \"Hash Dagger\""
      ],
      "metadata": {
        "id": "qdJ1U0xte9DE"
      },
      "execution_count": 76,
      "outputs": []
    },
    {
      "cell_type": "markdown",
      "source": [
        "#Hash Testing"
      ],
      "metadata": {
        "id": "m9rw-TYu8oUT"
      }
    },
    {
      "cell_type": "markdown",
      "source": [
        "In this specific test, we will be inputting bit string 110, we should expect 101 as our output"
      ],
      "metadata": {
        "id": "IHwLhvQO8uPf"
      }
    },
    {
      "cell_type": "code",
      "source": [
        "#Testing input 110 -> should get 101\n",
        "n_qubits = 3\n",
        "controls = QuantumRegister(n_qubits)\n",
        "outputs = ClassicalRegister(n_qubits)\n",
        "circuit = QuantumCircuit(controls, outputs)\n",
        "\n",
        "circuit.x(controls[1:3])\n",
        "circuit.draw()"
      ],
      "metadata": {
        "colab": {
          "base_uri": "https://localhost:8080/",
          "height": 217
        },
        "id": "iOlphgWGfnI2",
        "outputId": "9b88d3dd-9003-4ed8-cd9c-6d692af39fc7"
      },
      "execution_count": 77,
      "outputs": [
        {
          "output_type": "execute_result",
          "data": {
            "text/plain": [
              "            \n",
              "q16_0: ─────\n",
              "       ┌───┐\n",
              "q16_1: ┤ X ├\n",
              "       ├───┤\n",
              "q16_2: ┤ X ├\n",
              "       └───┘\n",
              "c16_0: ═════\n",
              "            \n",
              "c16_1: ═════\n",
              "            \n",
              "c16_2: ═════\n",
              "            "
            ],
            "text/html": [
              "<pre style=\"word-wrap: normal;white-space: pre;background: #fff0;line-height: 1.1;font-family: &quot;Courier New&quot;,Courier,monospace\">            \n",
              "q16_0: ─────\n",
              "       ┌───┐\n",
              "q16_1: ┤ X ├\n",
              "       ├───┤\n",
              "q16_2: ┤ X ├\n",
              "       └───┘\n",
              "c16_0: ═════\n",
              "            \n",
              "c16_1: ═════\n",
              "            \n",
              "c16_2: ═════\n",
              "            </pre>"
            ]
          },
          "metadata": {},
          "execution_count": 77
        }
      ]
    },
    {
      "cell_type": "code",
      "source": [
        "circuit.append(hash_gate, [0,1,2])\n",
        "circuit.barrier(controls)\n",
        "\n",
        "circuit.measure(controls, outputs)\n",
        "circuit.draw()"
      ],
      "metadata": {
        "colab": {
          "base_uri": "https://localhost:8080/",
          "height": 217
        },
        "id": "kvVj9Mz_guYu",
        "outputId": "e57cbdac-2a76-4800-d67d-35392980b073"
      },
      "execution_count": 78,
      "outputs": [
        {
          "output_type": "execute_result",
          "data": {
            "text/plain": [
              "            ┌──────────┐ ░ ┌─┐      \n",
              "q16_0: ─────┤0         ├─░─┤M├──────\n",
              "       ┌───┐│          │ ░ └╥┘┌─┐   \n",
              "q16_1: ┤ X ├┤1 Unitary ├─░──╫─┤M├───\n",
              "       ├───┤│          │ ░  ║ └╥┘┌─┐\n",
              "q16_2: ┤ X ├┤2         ├─░──╫──╫─┤M├\n",
              "       └───┘└──────────┘ ░  ║  ║ └╥┘\n",
              "c16_0: ═════════════════════╩══╬══╬═\n",
              "                               ║  ║ \n",
              "c16_1: ════════════════════════╩══╬═\n",
              "                                  ║ \n",
              "c16_2: ═══════════════════════════╩═\n",
              "                                    "
            ],
            "text/html": [
              "<pre style=\"word-wrap: normal;white-space: pre;background: #fff0;line-height: 1.1;font-family: &quot;Courier New&quot;,Courier,monospace\">            ┌──────────┐ ░ ┌─┐      \n",
              "q16_0: ─────┤0         ├─░─┤M├──────\n",
              "       ┌───┐│          │ ░ └╥┘┌─┐   \n",
              "q16_1: ┤ X ├┤1 Unitary ├─░──╫─┤M├───\n",
              "       ├───┤│          │ ░  ║ └╥┘┌─┐\n",
              "q16_2: ┤ X ├┤2         ├─░──╫──╫─┤M├\n",
              "       └───┘└──────────┘ ░  ║  ║ └╥┘\n",
              "c16_0: ═════════════════════╩══╬══╬═\n",
              "                               ║  ║ \n",
              "c16_1: ════════════════════════╩══╬═\n",
              "                                  ║ \n",
              "c16_2: ═══════════════════════════╩═\n",
              "                                    </pre>"
            ]
          },
          "metadata": {},
          "execution_count": 78
        }
      ]
    },
    {
      "cell_type": "code",
      "source": [
        "sim = Aer.get_backend('aer_simulator') \n",
        "result = sim.run(circuit).result()\n",
        "counts = result.get_counts()\n",
        "plot_histogram(counts)"
      ],
      "metadata": {
        "colab": {
          "base_uri": "https://localhost:8080/",
          "height": 339
        },
        "id": "HC_Gbt35gw0w",
        "outputId": "aabd6647-afe1-4ed9-aa48-631e93252c79"
      },
      "execution_count": 79,
      "outputs": [
        {
          "output_type": "execute_result",
          "data": {
            "text/plain": [
              "<Figure size 504x360 with 1 Axes>"
            ],
            "image/png": "[encoded data removed]"
          },
          "metadata": {},
          "execution_count": 79
        }
      ]
    },
    {
      "cell_type": "markdown",
      "source": [
        "We got 101! It works!"
      ],
      "metadata": {
        "id": "7Km0NLVm-goH"
      }
    },
    {
      "cell_type": "markdown",
      "source": [
        "#Hash Inverse Testing"
      ],
      "metadata": {
        "id": "9sxCp5XM9EHa"
      }
    },
    {
      "cell_type": "markdown",
      "source": [
        "Testing that the hash inverse gives us the desired response. In this specific case, we put in 110 and get 110."
      ],
      "metadata": {
        "id": "iD2bLB279jUh"
      }
    },
    {
      "cell_type": "code",
      "source": [
        "#Testing input 110 -> should get 101\n",
        "n_qubits = 3\n",
        "controls = QuantumRegister(n_qubits)\n",
        "outputs = ClassicalRegister(n_qubits)\n",
        "circuit = QuantumCircuit(controls, outputs)\n",
        "\n",
        "circuit.x(controls[1:3])\n",
        "circuit.draw()"
      ],
      "metadata": {
        "id": "3OFtcFCQsgFz",
        "colab": {
          "base_uri": "https://localhost:8080/",
          "height": 217
        },
        "outputId": "ebcc59b8-c282-48f0-a081-47cde4eded6b"
      },
      "execution_count": 80,
      "outputs": [
        {
          "output_type": "execute_result",
          "data": {
            "text/plain": [
              "            \n",
              "q17_0: ─────\n",
              "       ┌───┐\n",
              "q17_1: ┤ X ├\n",
              "       ├───┤\n",
              "q17_2: ┤ X ├\n",
              "       └───┘\n",
              "c17_0: ═════\n",
              "            \n",
              "c17_1: ═════\n",
              "            \n",
              "c17_2: ═════\n",
              "            "
            ],
            "text/html": [
              "<pre style=\"word-wrap: normal;white-space: pre;background: #fff0;line-height: 1.1;font-family: &quot;Courier New&quot;,Courier,monospace\">            \n",
              "q17_0: ─────\n",
              "       ┌───┐\n",
              "q17_1: ┤ X ├\n",
              "       ├───┤\n",
              "q17_2: ┤ X ├\n",
              "       └───┘\n",
              "c17_0: ═════\n",
              "            \n",
              "c17_1: ═════\n",
              "            \n",
              "c17_2: ═════\n",
              "            </pre>"
            ]
          },
          "metadata": {},
          "execution_count": 80
        }
      ]
    },
    {
      "cell_type": "code",
      "source": [
        "circuit.append(hash_gate, [0,1,2])\n",
        "circuit.append(hash_dagger, [0,1,2])\n",
        "circuit.barrier(controls)\n",
        "\n",
        "circuit.measure(controls, outputs)\n",
        "circuit.draw()"
      ],
      "metadata": {
        "colab": {
          "base_uri": "https://localhost:8080/",
          "height": 217
        },
        "id": "sMww2HA8-OUL",
        "outputId": "2487b582-bce0-4b4b-b805-2bd09289e7f9"
      },
      "execution_count": 81,
      "outputs": [
        {
          "output_type": "execute_result",
          "data": {
            "text/plain": [
              "            ┌──────────┐┌──────────┐ ░ ┌─┐      \n",
              "q17_0: ─────┤0         ├┤0         ├─░─┤M├──────\n",
              "       ┌───┐│          ││          │ ░ └╥┘┌─┐   \n",
              "q17_1: ┤ X ├┤1 Unitary ├┤1 Unitary ├─░──╫─┤M├───\n",
              "       ├───┤│          ││          │ ░  ║ └╥┘┌─┐\n",
              "q17_2: ┤ X ├┤2         ├┤2         ├─░──╫──╫─┤M├\n",
              "       └───┘└──────────┘└──────────┘ ░  ║  ║ └╥┘\n",
              "c17_0: ═════════════════════════════════╩══╬══╬═\n",
              "                                           ║  ║ \n",
              "c17_1: ════════════════════════════════════╩══╬═\n",
              "                                              ║ \n",
              "c17_2: ═══════════════════════════════════════╩═\n",
              "                                                "
            ],
            "text/html": [
              "<pre style=\"word-wrap: normal;white-space: pre;background: #fff0;line-height: 1.1;font-family: &quot;Courier New&quot;,Courier,monospace\">            ┌──────────┐┌──────────┐ ░ ┌─┐      \n",
              "q17_0: ─────┤0         ├┤0         ├─░─┤M├──────\n",
              "       ┌───┐│          ││          │ ░ └╥┘┌─┐   \n",
              "q17_1: ┤ X ├┤1 Unitary ├┤1 Unitary ├─░──╫─┤M├───\n",
              "       ├───┤│          ││          │ ░  ║ └╥┘┌─┐\n",
              "q17_2: ┤ X ├┤2         ├┤2         ├─░──╫──╫─┤M├\n",
              "       └───┘└──────────┘└──────────┘ ░  ║  ║ └╥┘\n",
              "c17_0: ═════════════════════════════════╩══╬══╬═\n",
              "                                           ║  ║ \n",
              "c17_1: ════════════════════════════════════╩══╬═\n",
              "                                              ║ \n",
              "c17_2: ═══════════════════════════════════════╩═\n",
              "                                                </pre>"
            ]
          },
          "metadata": {},
          "execution_count": 81
        }
      ]
    },
    {
      "cell_type": "code",
      "source": [
        "# We begin by declaring a simulator for our circuit to run on\n",
        "sim = Aer.get_backend('aer_simulator') \n",
        "# We run the simulator with sim.run(QUANTUM CIRCUIT),\n",
        "# And we get the resulting values with .result()\n",
        "result = sim.run(circuit).result()\n",
        "# We then collect the results using .get_counts()\n",
        "counts = result.get_counts()\n",
        "# Visualization\n",
        "plot_histogram(counts)"
      ],
      "metadata": {
        "colab": {
          "base_uri": "https://localhost:8080/",
          "height": 339
        },
        "id": "UVf93V61-W8c",
        "outputId": "2796ad63-55ba-44ac-e335-3dfdf3c7f75e"
      },
      "execution_count": 82,
      "outputs": [
        {
          "output_type": "execute_result",
          "data": {
            "text/plain": [
              "<Figure size 504x360 with 1 Axes>"
            ],
            "image/png": "[encoded data removed]"
          },
          "metadata": {},
          "execution_count": 82
        }
      ]
    },
    {
      "cell_type": "markdown",
      "source": [
        "We inputted 110 and got back 110, the inverse hash works!"
      ],
      "metadata": {
        "id": "m9LYFV_o-p6-"
      }
    }
  ]
}